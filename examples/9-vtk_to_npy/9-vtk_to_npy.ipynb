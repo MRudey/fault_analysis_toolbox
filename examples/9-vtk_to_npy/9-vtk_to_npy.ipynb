{
 "cells": [
  {
   "cell_type": "markdown",
   "metadata": {},
   "source": [
    "# Extraction of regular grid (NumPy array) from unstructed grid (.vtu)\n",
    "\n",
    "For a quantitative analysis of numerical models, it is often advantageous to have the data on regular grid, so that we can easily apply matrix transformations, image processing or machine learning tools. This tutorial describes how to use paraview's efficient interpolation to convert our models from an unstructured to a structured grid.\n",
    "\n",
    "(1) Open paraview to read off the size of the model in the red box below:"
   ]
  },
  {
   "cell_type": "markdown",
   "metadata": {},
   "source": [
    "![](Capture1.PNG)"
   ]
  },
  {
   "cell_type": "markdown",
   "metadata": {},
   "source": [
    "(2) Create a regular grid with these dimensions using this script:"
   ]
  },
  {
   "cell_type": "code",
   "execution_count": 1,
   "metadata": {},
   "outputs": [
    {
     "data": {
      "text/plain": [
       "'C:\\\\Users\\\\thilo\\\\box.vtr'"
      ]
     },
     "execution_count": 1,
     "metadata": {},
     "output_type": "execute_result"
    }
   ],
   "source": [
    "from pyevtk.hl import gridToVTK\n",
    "import numpy as np \n",
    "\n",
    "# Dimensions\n",
    "nx, ny, nz = 1000, 1000, 10\n",
    "lx, ly, lz = 0.1, 0.1, 0.0148067\n",
    "dx, dy, dz = lx/nx, ly/ny, lz/nz \n",
    "ncells = nx * ny * nz\n",
    "npoints = (nx + 1) * (ny + 1) * (nz + 1) \n",
    "\n",
    "# Coordinates\n",
    "x = np.arange(0, lx + 0.1*dx, dx, dtype='float64')\n",
    "y = np.arange(0, ly + 0.1*dy, dy, dtype='float64')\n",
    "z = np.arange(0, lz + 0.1*dz, dz, dtype='float64')\n",
    "\n",
    "gridToVTK(\"./box\", x, y, z) "
   ]
  },
  {
   "cell_type": "markdown",
   "metadata": {},
   "source": [
    "(3) Load the this grid ('box.vtr') in paraview:"
   ]
  },
  {
   "cell_type": "markdown",
   "metadata": {},
   "source": [
    "![](Capture2.png)"
   ]
  },
  {
   "cell_type": "markdown",
   "metadata": {},
   "source": [
    "(4) Resample the model using the grid using the paraview filter 'Resample with Dataset'. Select both your irregular grid as 'Source Data Arrays' and your regular grid as 'Destination Mesh'. The result would looks something like this:"
   ]
  },
  {
   "cell_type": "markdown",
   "metadata": {},
   "source": [
    "![](Capture3.png)"
   ]
  },
  {
   "cell_type": "markdown",
   "metadata": {},
   "source": [
    "(5) Save the regular gridded data as a .vtk file and choose the properties to write:"
   ]
  },
  {
   "cell_type": "markdown",
   "metadata": {},
   "source": [
    "![](Capture4.png)"
   ]
  },
  {
   "cell_type": "markdown",
   "metadata": {},
   "source": [
    "(6) Load the .vtk file in python:"
   ]
  },
  {
   "cell_type": "code",
   "execution_count": 2,
   "metadata": {},
   "outputs": [
    {
     "data": {
      "text/plain": [
       "<matplotlib.image.AxesImage at 0x241b064dfc8>"
      ]
     },
     "execution_count": 2,
     "metadata": {},
     "output_type": "execute_result"
    }
   ],
   "source": [
    "import matplotlib.pyplot as plt\n",
    "import meshio\n",
    "mesh = meshio.read('grid.vtk')\n",
    "\n",
    "nx, ny, nz = 1000, 1000, 10\n",
    "\n",
    "x = mesh.points[:,0].reshape(nz+1, nx+1, ny+1)\n",
    "y = mesh.points[:,1].reshape(nz+1, nx+1, ny+1)\n",
    "z = mesh.points[:,2].reshape(nz+1, nx+1, ny+1)\n",
    "\n",
    "strain = mesh.point_data['strain_rate'].reshape(nz+1, nx+1, ny+1)\n",
    "\n",
    "plt.imshow(strain[5,:,:])"
   ]
  },
  {
   "cell_type": "code",
   "execution_count": null,
   "metadata": {},
   "outputs": [],
   "source": []
  }
 ],
 "metadata": {
  "kernelspec": {
   "display_name": "Python 3",
   "language": "python",
   "name": "python3"
  },
  "language_info": {
   "codemirror_mode": {
    "name": "ipython",
    "version": 3
   },
   "file_extension": ".py",
   "mimetype": "text/x-python",
   "name": "python",
   "nbconvert_exporter": "python",
   "pygments_lexer": "ipython3",
   "version": "3.7.4"
  }
 },
 "nbformat": 4,
 "nbformat_minor": 2
}
