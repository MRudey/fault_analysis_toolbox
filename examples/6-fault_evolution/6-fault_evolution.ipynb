{
  "nbformat": 4,
  "nbformat_minor": 0,
  "metadata": {
    "colab": {
      "name": "6-fault_evolution.ipynb",
      "provenance": [],
      "collapsed_sections": [],
      "toc_visible": true
    },
    "kernelspec": {
      "name": "python3",
      "display_name": "Python 3"
    },
    "widgets": {
      "application/vnd.jupyter.widget-state+json": {
        "77c04b8b381b455f870beb4e1940547c": {
          "model_module": "@jupyter-widgets/controls",
          "model_name": "VBoxModel",
          "state": {
            "_view_name": "VBoxView",
            "_dom_classes": [
              "widget-interact"
            ],
            "_model_name": "VBoxModel",
            "_view_module": "@jupyter-widgets/controls",
            "_model_module_version": "1.5.0",
            "_view_count": null,
            "_view_module_version": "1.5.0",
            "box_style": "",
            "layout": "IPY_MODEL_55a4acd84cee428eb821f391d1b80b6d",
            "_model_module": "@jupyter-widgets/controls",
            "children": [
              "IPY_MODEL_99b32e2c0046492ebc2401451e512109",
              "IPY_MODEL_6442b7fac65840b5a060c72d27be09b4"
            ]
          }
        },
        "55a4acd84cee428eb821f391d1b80b6d": {
          "model_module": "@jupyter-widgets/base",
          "model_name": "LayoutModel",
          "state": {
            "_view_name": "LayoutView",
            "grid_template_rows": null,
            "right": null,
            "justify_content": null,
            "_view_module": "@jupyter-widgets/base",
            "overflow": null,
            "_model_module_version": "1.2.0",
            "_view_count": null,
            "flex_flow": null,
            "width": null,
            "min_width": null,
            "border": null,
            "align_items": null,
            "bottom": null,
            "_model_module": "@jupyter-widgets/base",
            "top": null,
            "grid_column": null,
            "overflow_y": null,
            "overflow_x": null,
            "grid_auto_flow": null,
            "grid_area": null,
            "grid_template_columns": null,
            "flex": null,
            "_model_name": "LayoutModel",
            "justify_items": null,
            "grid_row": null,
            "max_height": null,
            "align_content": null,
            "visibility": null,
            "align_self": null,
            "height": null,
            "min_height": null,
            "padding": null,
            "grid_auto_rows": null,
            "grid_gap": null,
            "max_width": null,
            "order": null,
            "_view_module_version": "1.2.0",
            "grid_template_areas": null,
            "object_position": null,
            "object_fit": null,
            "grid_auto_columns": null,
            "margin": null,
            "display": null,
            "left": null
          }
        },
        "99b32e2c0046492ebc2401451e512109": {
          "model_module": "@jupyter-widgets/controls",
          "model_name": "IntSliderModel",
          "state": {
            "_view_name": "IntSliderView",
            "style": "IPY_MODEL_249e6af769374d6ba91b2f406b7353ef",
            "_dom_classes": [],
            "description": "time",
            "step": 1,
            "_model_name": "IntSliderModel",
            "orientation": "horizontal",
            "max": 49,
            "_view_module": "@jupyter-widgets/controls",
            "_model_module_version": "1.5.0",
            "value": 9,
            "_view_count": null,
            "disabled": false,
            "_view_module_version": "1.5.0",
            "min": 3,
            "continuous_update": true,
            "readout_format": "d",
            "description_tooltip": null,
            "readout": true,
            "_model_module": "@jupyter-widgets/controls",
            "layout": "IPY_MODEL_a5345a7c49aa4d67990aedc3f97be004"
          }
        },
        "6442b7fac65840b5a060c72d27be09b4": {
          "model_module": "@jupyter-widgets/output",
          "model_name": "OutputModel",
          "state": {
            "_view_name": "OutputView",
            "msg_id": "",
            "_dom_classes": [],
            "_model_name": "OutputModel",
            "outputs": [
              {
                "output_type": "display_data",
                "metadata": {
                  "tags": []
                },
                "image/png": "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\n",
                "text/plain": "<Figure size 1152x288 with 1 Axes>"
              }
            ],
            "_view_module": "@jupyter-widgets/output",
            "_model_module_version": "1.0.0",
            "_view_count": null,
            "_view_module_version": "1.0.0",
            "layout": "IPY_MODEL_50ecee31b9094ba79d60b55aabf8deb3",
            "_model_module": "@jupyter-widgets/output"
          }
        },
        "249e6af769374d6ba91b2f406b7353ef": {
          "model_module": "@jupyter-widgets/controls",
          "model_name": "SliderStyleModel",
          "state": {
            "_view_name": "StyleView",
            "handle_color": null,
            "_model_name": "SliderStyleModel",
            "description_width": "",
            "_view_module": "@jupyter-widgets/base",
            "_model_module_version": "1.5.0",
            "_view_count": null,
            "_view_module_version": "1.2.0",
            "_model_module": "@jupyter-widgets/controls"
          }
        },
        "a5345a7c49aa4d67990aedc3f97be004": {
          "model_module": "@jupyter-widgets/base",
          "model_name": "LayoutModel",
          "state": {
            "_view_name": "LayoutView",
            "grid_template_rows": null,
            "right": null,
            "justify_content": null,
            "_view_module": "@jupyter-widgets/base",
            "overflow": null,
            "_model_module_version": "1.2.0",
            "_view_count": null,
            "flex_flow": null,
            "width": "900px",
            "min_width": null,
            "border": null,
            "align_items": null,
            "bottom": null,
            "_model_module": "@jupyter-widgets/base",
            "top": null,
            "grid_column": null,
            "overflow_y": null,
            "overflow_x": null,
            "grid_auto_flow": null,
            "grid_area": null,
            "grid_template_columns": null,
            "flex": null,
            "_model_name": "LayoutModel",
            "justify_items": null,
            "grid_row": null,
            "max_height": null,
            "align_content": null,
            "visibility": null,
            "align_self": null,
            "height": null,
            "min_height": null,
            "padding": null,
            "grid_auto_rows": null,
            "grid_gap": null,
            "max_width": null,
            "order": null,
            "_view_module_version": "1.2.0",
            "grid_template_areas": null,
            "object_position": null,
            "object_fit": null,
            "grid_auto_columns": null,
            "margin": null,
            "display": null,
            "left": null
          }
        },
        "50ecee31b9094ba79d60b55aabf8deb3": {
          "model_module": "@jupyter-widgets/base",
          "model_name": "LayoutModel",
          "state": {
            "_view_name": "LayoutView",
            "grid_template_rows": null,
            "right": null,
            "justify_content": null,
            "_view_module": "@jupyter-widgets/base",
            "overflow": null,
            "_model_module_version": "1.2.0",
            "_view_count": null,
            "flex_flow": null,
            "width": "1000px",
            "min_width": null,
            "border": null,
            "align_items": null,
            "bottom": null,
            "_model_module": "@jupyter-widgets/base",
            "top": null,
            "grid_column": null,
            "overflow_y": null,
            "overflow_x": null,
            "grid_auto_flow": null,
            "grid_area": null,
            "grid_template_columns": null,
            "flex": null,
            "_model_name": "LayoutModel",
            "justify_items": null,
            "grid_row": null,
            "max_height": null,
            "align_content": null,
            "visibility": null,
            "align_self": null,
            "height": null,
            "min_height": null,
            "padding": null,
            "grid_auto_rows": null,
            "grid_gap": null,
            "max_width": null,
            "order": null,
            "_view_module_version": "1.2.0",
            "grid_template_areas": null,
            "object_position": null,
            "object_fit": null,
            "grid_auto_columns": null,
            "margin": null,
            "display": null,
            "left": null
          }
        }
      }
    }
  },
  "cells": [
    {
      "cell_type": "markdown",
      "metadata": {
        "id": "M8WsE8ikugs3"
      },
      "source": [
        "# Example 2: Fault correlation through time steps of 2-D numerical model\n",
        "This example describes how to correlate faults extracted at different time steps."
      ]
    },
    {
      "cell_type": "markdown",
      "metadata": {
        "id": "_wnqah3PvRhD"
      },
      "source": [
        "## Setup\n",
        "\n",
        "1. First, you will need sign in to your Google account. If you're not signed in, you can sign in [here](https://myaccount.google.com/?utm_source=sign_in_no_continue)\n",
        "2. Next, head on to the [Colab Welcome Page](https://colab.research.google.com/notebooks/welcome.ipynb#recent=true).\n",
        "3. There, select Github in the top tab and search for https://github.com/thilowrona/fault_analysis_toolbox/blob/master/examples/2-fault_properties/2-fault_properties.ipynb\n",
        "4. Clicking opens this notebook. This is a Jupyter notebook; an awesome combination of code and documentation allowing us work on, describe and share our projects.\n",
        "5. When you run the first cell, you will face a pop-up saying ‘Warning: This notebook was not authored by Google’; you should click on ‘Run Anyway’ to get rid of the warning.\n",
        "6. Next we want to save our notebook. If you click on ‘File’ and then ‘Save’, you will see a pop-up saying ´CANNOT SAVE CHANGES´. Now, click on ‘SAVE A COPY IN DRIVE’. This opens up a new tab with the same file, but this time located in your Drive. If you want to continue working after saving, use the file in the new tab. Your notebook will be saved in a folder called Colab Notebooks in your Google Drive by default."
      ]
    },
    {
      "cell_type": "markdown",
      "metadata": {
        "id": "uLMyh4JWwFRq"
      },
      "source": [
        "## Load packages\n",
        "To run the toolbox, we will need a couple of packages including the toolbox itself. So let's install them:"
      ]
    },
    {
      "cell_type": "code",
      "metadata": {
        "id": "8umzJV2qwtEw",
        "colab": {
          "base_uri": "https://localhost:8080/"
        },
        "outputId": "79142410-7a47-4508-f6ec-5f95c382bd83"
      },
      "source": [
        "!git clone https://github.com/thilowrona/fault_analysis_toolbox"
      ],
      "execution_count": 1,
      "outputs": [
        {
          "output_type": "stream",
          "text": [
            "Cloning into 'fault_analysis_toolbox'...\n",
            "remote: Enumerating objects: 2337, done.\u001b[K\n",
            "remote: Counting objects: 100% (56/56), done.\u001b[K\n",
            "remote: Compressing objects: 100% (55/55), done.\u001b[K\n",
            "remote: Total 2337 (delta 17), reused 0 (delta 0), pack-reused 2281\u001b[K\n",
            "Receiving objects: 100% (2337/2337), 352.22 MiB | 25.09 MiB/s, done.\n",
            "Resolving deltas: 100% (543/543), done.\n"
          ],
          "name": "stdout"
        }
      ]
    },
    {
      "cell_type": "code",
      "metadata": {
        "colab": {
          "base_uri": "https://localhost:8080/"
        },
        "id": "pgN89-u56Tdl",
        "outputId": "44669db0-696b-4959-d3bb-b10df3adb4fd"
      },
      "source": [
        "!pip3 install vtk\n",
        "!pip3 install git+https://github.com/ulikoehler/cv_algorithms.git"
      ],
      "execution_count": 2,
      "outputs": [
        {
          "output_type": "stream",
          "text": [
            "Collecting vtk\n",
            "\u001b[?25l  Downloading https://files.pythonhosted.org/packages/b5/f5/1971e21b7da2875fa07754e49c302cdb140de4c8585d56df8027d08ce299/vtk-9.0.1-cp37-cp37m-manylinux2010_x86_64.whl (103.4MB)\n",
            "\u001b[K     |████████████████████████████████| 103.4MB 54kB/s \n",
            "\u001b[?25hInstalling collected packages: vtk\n",
            "Successfully installed vtk-9.0.1\n",
            "Collecting git+https://github.com/ulikoehler/cv_algorithms.git\n",
            "  Cloning https://github.com/ulikoehler/cv_algorithms.git to /tmp/pip-req-build-xgio6gsi\n",
            "  Running command git clone -q https://github.com/ulikoehler/cv_algorithms.git /tmp/pip-req-build-xgio6gsi\n",
            "Requirement already satisfied: cffi>=0.7 in /usr/local/lib/python3.7/dist-packages (from cv-algorithms==1.0.0) (1.14.5)\n",
            "Requirement already satisfied: pycparser in /usr/local/lib/python3.7/dist-packages (from cffi>=0.7->cv-algorithms==1.0.0) (2.20)\n",
            "Building wheels for collected packages: cv-algorithms\n",
            "  Building wheel for cv-algorithms (setup.py) ... \u001b[?25l\u001b[?25hdone\n",
            "  Created wheel for cv-algorithms: filename=cv_algorithms-1.0.0-cp37-cp37m-linux_x86_64.whl size=43526 sha256=aa3fe5839472032b6587a2852957037611c4c6725d24b13507bf241d281c9694\n",
            "  Stored in directory: /tmp/pip-ephem-wheel-cache-51txy0bz/wheels/0b/45/f6/dfa0d535f50a0148a4c7d6912942fdb7a6445d7196a2591cbe\n",
            "Successfully built cv-algorithms\n",
            "Installing collected packages: cv-algorithms\n",
            "Successfully installed cv-algorithms-1.0.0\n"
          ],
          "name": "stdout"
        }
      ]
    },
    {
      "cell_type": "markdown",
      "metadata": {
        "id": "OhqvKEkew-Qb"
      },
      "source": [
        "Now we can load the python packages:"
      ]
    },
    {
      "cell_type": "code",
      "metadata": {
        "id": "YlR6sp36t4Ag"
      },
      "source": [
        "import numpy as np \n",
        "import networkx as nx\n",
        "import pickle\n",
        "\n",
        "import matplotlib.pyplot as plt\n",
        "from scipy.spatial import distance_matrix\n",
        "\n",
        "from sys import stdout"
      ],
      "execution_count": 3,
      "outputs": []
    },
    {
      "cell_type": "markdown",
      "metadata": {
        "id": "wZilTT2YxyMd"
      },
      "source": [
        "and the functions from the fault analysis toolbox that we want to use:"
      ]
    },
    {
      "cell_type": "code",
      "metadata": {
        "id": "GK67NWzRxv8y"
      },
      "source": [
        "import sys\n",
        "sys.path.append('/content/fault_analysis_toolbox/code/')\n",
        "\n",
        "from image_processing import guo_hall\n",
        "from edits import *\n",
        "from metrics import *\n",
        "from plots import *"
      ],
      "execution_count": 4,
      "outputs": []
    },
    {
      "cell_type": "markdown",
      "metadata": {
        "id": "0g4ix_pTyDMK"
      },
      "source": [
        "## Load and visualize networks"
      ]
    },
    {
      "cell_type": "markdown",
      "metadata": {
        "id": "MknzhRqNyS5Y"
      },
      "source": [
        "First, we load our fault networks extracted from a 2-D model over several timesteps:"
      ]
    },
    {
      "cell_type": "code",
      "metadata": {
        "id": "Z1s32vUwl1Pv"
      },
      "source": [
        "Gs = []\n",
        "for n in range(3,50):\n",
        "  Gs.append(pickle.load(open('/content/fault_analysis_toolbox/examples/6-fault_evolution/graphs/g_'+ str(n) + '.p', 'rb')))"
      ],
      "execution_count": 5,
      "outputs": []
    },
    {
      "cell_type": "markdown",
      "metadata": {
        "id": "WANOe13NoQ8s"
      },
      "source": [
        "Now we can visualize and compare the faults extracted through time:"
      ]
    },
    {
      "cell_type": "code",
      "metadata": {
        "colab": {
          "base_uri": "https://localhost:8080/",
          "height": 301,
          "referenced_widgets": [
            "77c04b8b381b455f870beb4e1940547c",
            "55a4acd84cee428eb821f391d1b80b6d",
            "99b32e2c0046492ebc2401451e512109",
            "6442b7fac65840b5a060c72d27be09b4",
            "249e6af769374d6ba91b2f406b7353ef",
            "a5345a7c49aa4d67990aedc3f97be004",
            "50ecee31b9094ba79d60b55aabf8deb3"
          ]
        },
        "id": "RHTU5Tnl9okC",
        "outputId": "69a3dfdf-6f94-4d2c-9240-acee2bac48f5"
      },
      "source": [
        "%matplotlib inline\n",
        "from ipywidgets import interactive, widgets, Layout\n",
        "\n",
        "\n",
        "def f(time):\n",
        "    fig, ax = plt.subplots(figsize=(16,4))\n",
        "    plot_components(Gs[time], ax, label=True)\n",
        "    plt.xlim([1000, 3500])\n",
        "    plt.ylim([600, 0])\n",
        "    plt.show()\n",
        "\n",
        "interactive_plot = interactive(f, time=widgets.IntSlider(min=3, max=49, step=1, layout=Layout(width='900px')))\n",
        "output = interactive_plot.children[-1]\n",
        "output.layout.width = '1000px'\n",
        "interactive_plot\n"
      ],
      "execution_count": 6,
      "outputs": [
        {
          "output_type": "display_data",
          "data": {
            "application/vnd.jupyter.widget-view+json": {
              "model_id": "77c04b8b381b455f870beb4e1940547c",
              "version_minor": 0,
              "version_major": 2
            },
            "text/plain": [
              "interactive(children=(IntSlider(value=3, description='time', layout=Layout(width='900px'), max=49, min=3), Out…"
            ]
          },
          "metadata": {
            "tags": []
          }
        }
      ]
    },
    {
      "cell_type": "code",
      "metadata": {
        "id": "9XuR6gPLHGz-"
      },
      "source": [
        ""
      ],
      "execution_count": 6,
      "outputs": []
    }
  ]
}